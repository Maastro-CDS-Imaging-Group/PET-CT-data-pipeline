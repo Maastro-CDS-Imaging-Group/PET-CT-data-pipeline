{
 "cells": [
  {
   "cell_type": "code",
   "execution_count": 9,
   "metadata": {
    "tags": []
   },
   "outputs": [],
   "source": [
    "import os\n",
    "\n",
    "import numpy as np\n",
    "import matplotlib.pyplot as plt\n",
    "\n",
    "import pydicom\n",
    "import SimpleITK as sitk"
   ]
  },
  {
   "cell_type": "code",
   "execution_count": 10,
   "metadata": {},
   "outputs": [],
   "source": [
    "study_dir = \"./Sample data/HN-CHUM-001/08-27-1885-PANC. avec C.A. SPHRE ORL   tte et cou  -TP-74220/\""
   ]
  },
  {
   "cell_type": "code",
   "execution_count": 11,
   "metadata": {},
   "outputs": [],
   "source": [
    "# General functions\n",
    "\n",
    "def load_dicom_slices(series_dir):    \n",
    "    # Uses Pydicom\n",
    "    print(\"Loading DICOM slices ...\")\n",
    "    \n",
    "    file_names = sorted(os.listdir(series_dir))\n",
    "    dicom_files = [pydicom.dcmread(series_dir + fn) for fn in file_names]\n",
    "\n",
    "    dicom_slices = []\n",
    "    n_skipped = 0\n",
    "    for f in dicom_files:\n",
    "        if hasattr(f, 'SliceLocation'): # Only take the slice if slice location attribute exists\n",
    "            dicom_slices.append(f)\n",
    "        else:\n",
    "            n_skipped += 1\n",
    "    \n",
    "    dicom_slices = sorted(dicom_slices, key=lambda sl: sl.SliceLocation) # Sort slices by slice location (starting from feet-side) \n",
    "    \n",
    "    print(\"Total slices found:\", len(dicom_files))\n",
    "    print(\"Slices loaded:\", len(dicom_slices))\n",
    "    print(\"Slices skipped:\", n_skipped)\n",
    "    print(\"Pixel spacing:\", dicom_slices[0].PixelSpacing)\n",
    "    print(\"Slice thickness:\", dicom_slices[0].SliceThickness)\n",
    "    print(\"\\n\")\n",
    "    \n",
    "    return dicom_slices, n_skipped\n",
    "\n",
    "\n",
    "# TODO\n",
    "def read_dicom_series(series_dir):\n",
    "    # Uses SimpleITK\n",
    "    pass\n",
    "\n",
    "# TODO\n",
    "def resample(volume, new_shape):\n",
    "    # Use SimpleITK\n",
    "    pass\n"
   ]
  },
  {
   "cell_type": "markdown",
   "metadata": {},
   "source": [
    "# CT data"
   ]
  },
  {
   "cell_type": "code",
   "execution_count": 12,
   "metadata": {},
   "outputs": [],
   "source": [
    "# CT specific Functions\n",
    "\n",
    "def get_ct_volume(dicom_slices):\n",
    "    \"\"\"\n",
    "    Input --\n",
    "    dicom_slices: List of pydicom objects (each is a slice)\n",
    "    ------\n",
    "    Output --\n",
    "    ct_volume: Numpy array of shape (rows, columns, slices) \n",
    "    \"\"\"\n",
    "    ct_vol_shape = list(dicom_slices[0].pixel_array.shape)\n",
    "    ct_vol_shape.append(len(dicom_slices))\n",
    "    ct_volume = np.zeros(ct_vol_shape)\n",
    "    \n",
    "    rescale_slope = dicom_slices[0].RescaleSlope\n",
    "    rescale_intercept = dicom_slices[0].RescaleIntercept\n",
    "    \n",
    "    for i, sl in enumerate(dicom_slices):\n",
    "        image2d = sl.pixel_array\n",
    "        image2d[image2d == -2000] = 0 # Set out-of-bound region values to 0 (to make it same as air) \n",
    "        image2d_hu = image2d * rescale_slope + rescale_intercept # Converting to HU\n",
    "        ct_volume[:,:,i] = image2d_hu\n",
    "    \n",
    "    print(f\"HU range of the CT volume: ({int(ct_volume.min())}, {int(ct_volume.max())}) \")\n",
    "    \n",
    "    return ct_volume\n",
    "\n",
    "\n",
    "def apply_hu_window(ct_volume, window_level, window_width):\n",
    "    ct_volume_win = ct_volume.copy()\n",
    "    \n",
    "    window_max = window_level + window_width // 2\n",
    "    window_min = window_level - window_width // 2\n",
    "\n",
    "    ct_volume_win[ct_volume_win > window_max] = window_max\n",
    "    ct_volume_win[ct_volume_win < window_min] = window_min\n",
    "    \n",
    "    return ct_volume_win\n"
   ]
  },
  {
   "cell_type": "code",
   "execution_count": 13,
   "metadata": {
    "tags": []
   },
   "outputs": [
    {
     "name": "stdout",
     "output_type": "stream",
     "text": [
      "Loading DICOM slices ...\n",
      "Total slices found: 90\n",
      "Slices loaded: 90\n",
      "Slices skipped: 0\n",
      "Pixel spacing: [0.976562, 0.976562]\n",
      "Slice thickness: 3.750000\n",
      "\n",
      "\n",
      "HU range of the CT volume: (-1024, 1964) \n"
     ]
    }
   ],
   "source": [
    "ct_series_dir = study_dir + \"3.000000-StandardFull-07232/\"\n",
    "\n",
    "\n",
    "# Pydicom + Numpy style --------------------------\n",
    "\n",
    "dicom_slices, n_skipped = load_dicom_slices(ct_series_dir) # Get a list of pydicom objects (slices) \n",
    "\n",
    "# Convert to a 3d numpy array of pixel values\n",
    "ct_volume = get_ct_volume(dicom_slices) \n",
    "plt.imshow(ct_volume[:,:,80], cmap=plt.cm.bone)\n",
    "plt.show()\n",
    "\n",
    "# Apply HU window\n",
    "ct_volume_win = apply_hu_window(ct_volume, window_level=100, window_width=300)\n",
    "plt.imshow(ct_volume_win[:,:,80], cmap=plt.cm.bone)\n",
    "plt.show()"
   ]
  },
  {
   "cell_type": "code",
   "execution_count": null,
   "metadata": {},
   "outputs": [],
   "source": [
    "# SimpleITK style ---------------------------\n",
    "\n",
    "\n",
    "#TODO"
   ]
  },
  {
   "cell_type": "markdown",
   "metadata": {},
   "source": [
    "# PET data"
   ]
  },
  {
   "cell_type": "code",
   "execution_count": 24,
   "metadata": {},
   "outputs": [],
   "source": [
    "# PET specific functions\n",
    "\n",
    "def get_pet_volume(dicom_slices):\n",
    "    \"\"\"\n",
    "    Input --\n",
    "    dicom_slices: List of pydicom objects (each is a slice)\n",
    "    ------\n",
    "    Output --\n",
    "    pet_volume: Numpy array of shape (rows, columns, slices) \n",
    "    \"\"\"\n",
    "    pet_vol_shape = list(dicom_slices[0].pixel_array.shape)\n",
    "    pet_vol_shape.append(len(dicom_slices))\n",
    "    pet_volume = np.zeros(pet_vol_shape)\n",
    "    \n",
    "    rescale_slope = dicom_slices[0].RescaleSlope\n",
    "    rescale_intercept = dicom_slices[0].RescaleIntercept\n",
    "    \n",
    "    for i, sl in enumerate(dicom_slices):\n",
    "        image2d = sl.pixel_array\n",
    "        image2d_rescaled = image2d * rescale_slope + rescale_intercept # Rescale\n",
    "        pet_volume[:,:,i] = image2d_rescaled\n",
    "        \n",
    "    return pet_volume\n",
    "    "
   ]
  },
  {
   "cell_type": "code",
   "execution_count": 25,
   "metadata": {},
   "outputs": [
    {
     "name": "stdout",
     "output_type": "stream",
     "text": [
      "Loading DICOM slices ...\n",
      "Total slices found: 92\n",
      "Slices loaded: 91\n",
      "Slices skipped: 1\n",
      "Pixel spacing: [3.515625, 3.515625]\n",
      "Slice thickness: 3.2700\n",
      "\n",
      "\n",
      "Rescale slope: 0.839418\n",
      "Rescale Intercept: 0\n",
      "Pixel value range: (0.0, 27505.209606)\n"
     ]
    },
    {
     "data": {
      "text/plain": [
       "<matplotlib.image.AxesImage at 0x7fc7cd4364a8>"
      ]
     },
     "execution_count": 25,
     "metadata": {},
     "output_type": "execute_result"
    },
    {
     "data": {
      "image/png": "[encoded data removed]",
      "text/plain": [
       "<Figure size 432x288 with 1 Axes>"
      ]
     },
     "metadata": {
      "needs_background": "light"
     },
     "output_type": "display_data"
    }
   ],
   "source": [
    "pet_series_dir = study_dir + \"4.000000-TETECOUAC2D-27812/\"\n",
    "\n",
    "\n",
    "# Pydicom + Numpy style --------------------------------\n",
    "\n",
    "dicom_slices, n_skipped = load_dicom_slices(pet_series_dir) # Get a list of pydicom objects (slices)\n",
    "print(\"Rescale slope:\",dicom_slices[0].RescaleSlope)\n",
    "print(\"Rescale Intercept:\",dicom_slices[0].RescaleIntercept)\n",
    "\n",
    "# Get a 3D numpy array of pixel values\n",
    "pet_volume = get_pet_volume(dicom_slices)\n",
    "print(f\"Pixel value range: ({pet_volume.min()}, {pet_volume.max()})\")\n",
    "plt.imshow(pet_volume[:,:,80], cmap='gray')"
   ]
  },
  {
   "cell_type": "code",
   "execution_count": null,
   "metadata": {},
   "outputs": [],
   "source": [
    "# SimpleITK style ---------------------------\n",
    "\n",
    "\n",
    "#TODO"
   ]
  },
  {
   "cell_type": "markdown",
   "metadata": {},
   "source": [
    "# RTstruct data"
   ]
  },
  {
   "cell_type": "code",
   "execution_count": 16,
   "metadata": {},
   "outputs": [],
   "source": [
    "# Plastimatch to convert to sitk supported binary masks (use the script for the data-pipelines repo)"
   ]
  }
 ],
 "metadata": {
  "kernelspec": {
   "display_name": "Python 3",
   "language": "python",
   "name": "python3"
  },
  "language_info": {
   "codemirror_mode": {
    "name": "ipython",
    "version": 3
   },
   "file_extension": ".py",
   "mimetype": "text/x-python",
   "name": "python",
   "nbconvert_exporter": "python",
   "pygments_lexer": "ipython3",
   "version": "3.6.11"
  }
 },
 "nbformat": 4,
 "nbformat_minor": 4
}
